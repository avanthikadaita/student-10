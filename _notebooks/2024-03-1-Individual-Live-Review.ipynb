{
 "cells": [
  {
   "cell_type": "markdown",
   "metadata": {},
   "source": [
    "---\n",
    "toc: true\n",
    "comments: true\n",
    "layout: post\n",
    "title: Individual Live Review\n",
    "description: Individual Seed\n",
    "type: ccc\n",
    "courses: { compsci: {week: 21} }\n",
    "---"
   ]
  },
  {
   "cell_type": "markdown",
   "metadata": {},
   "source": [
    "# Individual Seed"
   ]
  },
  {
   "cell_type": "markdown",
   "metadata": {},
   "source": [
    "## Key commits:\n",
    "\n",
    "[Fitness Planner](https://github.com/EshikaP1/2front/commit/5d905e59c102a909efa963ae56ab35842d28a7f2)\n",
    "This is a webpage for a fitness planner. It allows users to log their daily food intake, calorie intake, exercise, and calories burned. When the user clicks the \"Log Entry\" button, the entered data is saved locally in the browser's storage. The webpage also displays a weekly log of all entries made, which is updated every time a new entry is added. The design includes input fields for entering data and a table to display the weekly log.\n",
    "\n",
    "\n",
    "[Add post model and CRUD](https://github.com/EshikaP1/2back/commit/fca95e66ab9babf851b18beefb91b7fd63ef9815)\n",
    "This code defines a RESTful API for logging fitness activities like food intake and exercise. It uses Flask and Flask-RESTful libraries. Users can log their food or exercise activities by sending POST requests with JSON data containing details like food name, calories, exercise name, and calories burned. The API also allows users to retrieve their logged activities with GET requests. Authentication is handled using a token-based middleware.\n",
    "\n",
    "\n",
    "[Header Styling](https://github.com/EshikaP1/2front/commit/10ff382c370468553946a2446f69e05e3a6528ae)\n",
    "This code is adding custom styles to a website's header and navigation menu. It sets the background color of the header to white, adds padding and a pink border. It also styles the navigation menu to have no bullets, no spacing between menu items, and display them horizontally. Links in the menu have no underline, black text color, padding, rounded corners, and a smooth transition effect when hovered over. When a link is hovered over, the background color changes to pink and the text color changes to white."
   ]
  },
  {
   "cell_type": "markdown",
   "metadata": {},
   "source": [
    "## Project\n",
    "\n",
    "[Backend](https://github.com/EshikaP1/2back)\n",
    "\n",
    "[Frontend](https://github.com/EshikaP1/2front)"
   ]
  },
  {
   "cell_type": "markdown",
   "metadata": {},
   "source": [
    "## Next steps\n",
    "\n",
    "- Modify the CPT project code to make the styling better and some of the features pop out and then remake the video\n",
    "- Collaborate better with my team instead of splitting work up \n",
    "- Clear doubts about code with the teacher as soon as they pop up"
   ]
  }
 ],
 "metadata": {
  "kernelspec": {
   "display_name": "Python 3",
   "language": "python",
   "name": "python3"
  },
  "language_info": {
   "codemirror_mode": {
    "name": "ipython",
    "version": 3
   },
   "file_extension": ".py",
   "mimetype": "text/x-python",
   "name": "python",
   "nbconvert_exporter": "python",
   "pygments_lexer": "ipython3",
   "version": "3.10.12"
  }
 },
 "nbformat": 4,
 "nbformat_minor": 2
}
