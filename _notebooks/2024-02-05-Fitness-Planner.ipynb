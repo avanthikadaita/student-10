{
 "cells": [
  {
   "cell_type": "code",
   "execution_count": 1,
   "metadata": {},
   "outputs": [
    {
     "name": "stdout",
     "output_type": "stream",
     "text": [
      "Fitness Planner for JohnDoe\n",
      "Workouts:\n",
      "- Cardio, 30 minutes, 2024-02-05\n",
      "- Strength Training, 45 minutes, 2024-02-06\n",
      "\n",
      "Goals:\n",
      "- Weight Loss: Lose 5 lbs\n",
      "- Run Distance: 10 miles per week\n"
     ]
    }
   ],
   "source": [
    "class FitnessPlanner:\n",
    "    def __init__(self):\n",
    "        self.user_data = {}\n",
    "\n",
    "    def add_user(self, username):\n",
    "        self.user_data[username] = {'workouts': [], 'goals': {}}\n",
    "\n",
    "    def add_workout(self, username, workout_name, duration, date):\n",
    "        workout = {'name': workout_name, 'duration': duration, 'date': date}\n",
    "        self.user_data[username]['workouts'].append(workout)\n",
    "\n",
    "    def set_goal(self, username, goal_type, goal_value):\n",
    "        self.user_data[username]['goals'][goal_type] = goal_value\n",
    "\n",
    "    def display_user_data(self, username):\n",
    "        user_info = self.user_data.get(username)\n",
    "        if user_info:\n",
    "            print(f\"Fitness Planner for {username}\")\n",
    "            print(\"Workouts:\")\n",
    "            for workout in user_info['workouts']:\n",
    "                print(f\"- {workout['name']}, {workout['duration']} minutes, {workout['date']}\")\n",
    "            \n",
    "            print(\"\\nGoals:\")\n",
    "            for goal_type, goal_value in user_info['goals'].items():\n",
    "                print(f\"- {goal_type}: {goal_value}\")\n",
    "        else:\n",
    "            print(f\"User {username} not found.\")\n",
    "\n",
    "# Example usage:\n",
    "fitness_planner = FitnessPlanner()\n",
    "\n",
    "# Add user\n",
    "fitness_planner.add_user(\"JohnDoe\")\n",
    "\n",
    "# Add workouts\n",
    "fitness_planner.add_workout(\"JohnDoe\", \"Cardio\", 30, \"2024-02-05\")\n",
    "fitness_planner.add_workout(\"JohnDoe\", \"Strength Training\", 45, \"2024-02-06\")\n",
    "\n",
    "# Set goals\n",
    "fitness_planner.set_goal(\"JohnDoe\", \"Weight Loss\", \"Lose 5 lbs\")\n",
    "fitness_planner.set_goal(\"JohnDoe\", \"Run Distance\", \"10 miles per week\")\n",
    "\n",
    "# Display user data\n",
    "fitness_planner.display_user_data(\"JohnDoe\")\n"
   ]
  }
 ],
 "metadata": {
  "kernelspec": {
   "display_name": "Python 3",
   "language": "python",
   "name": "python3"
  },
  "language_info": {
   "codemirror_mode": {
    "name": "ipython",
    "version": 3
   },
   "file_extension": ".py",
   "mimetype": "text/x-python",
   "name": "python",
   "nbconvert_exporter": "python",
   "pygments_lexer": "ipython3",
   "version": "3.12.0"
  }
 },
 "nbformat": 4,
 "nbformat_minor": 2
}
