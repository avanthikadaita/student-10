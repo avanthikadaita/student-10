{
 "cells": [
  {
   "cell_type": "markdown",
   "metadata": {},
   "source": [
    "---\n",
    "toc: true\n",
    "comments: true\n",
    "layout: post\n",
    "title: Team Live Review\n",
    "description: Team Seed\n",
    "type: ccc\n",
    "courses: { compsci: {week: 21} }\n",
    "---"
   ]
  },
  {
   "cell_type": "markdown",
   "metadata": {},
   "source": [
    "# Team Seed"
   ]
  },
  {
   "cell_type": "markdown",
   "metadata": {},
   "source": [
    "\n",
    "## Integration: \n",
    "\n",
    "We will integrate our progress through individual repositories, collaborating via bi-daily standups every other day to share updates. Weekly goals include merging each other's work into our respective projects, analyzing code, emphasizing comments, pull requests, and maintaining consistent GitHub issues/blogs for tracking and integration.\n",
    "\n",
    "## Function:\n",
    "\n",
    "Building upon our fitness codebase, we'll utilize its endpoints to facilitate logging and retrieving fitness activities. Users will interact with the system to record food intake or exercise activities. Leveraging Flask's capabilities, the backend will process requests, validate input, and persist data accordingly. With token authentication in place, users can securely log and review their fitness journey. This iteration extends our previous work, focusing on enhancing user experience and data management within the fitness domain.\n",
    "\n",
    "## Schedule:\n",
    "\n",
    "Monday: Work Day\n",
    "\n",
    "Tuesday: Cross Over Review with the other team\n",
    "\n",
    "Wednesday: Check-in with the teacher\n",
    "\n",
    "Thursday: Work Day\n",
    "\n",
    "Friday: Update plans\n",
    "\n",
    "## Next Steps:\n",
    "\n",
    "We plan to update the calendar's issues with project screenshots and brief descriptions. We may need more frequent check-ins with the other group beyond once a week. This schedule is tentative and subject to adjustments."
   ]
  }
 ],
 "metadata": {
  "kernelspec": {
   "display_name": "Python 3",
   "language": "python",
   "name": "python3"
  },
  "language_info": {
   "codemirror_mode": {
    "name": "ipython",
    "version": 3
   },
   "file_extension": ".py",
   "mimetype": "text/x-python",
   "name": "python",
   "nbconvert_exporter": "python",
   "pygments_lexer": "ipython3",
   "version": "3.10.12"
  }
 },
 "nbformat": 4,
 "nbformat_minor": 2
}
