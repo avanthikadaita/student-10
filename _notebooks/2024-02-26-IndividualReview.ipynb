{
 "cells": [
  {
   "cell_type": "markdown",
   "metadata": {},
   "source": [
    "---\n",
    "toc: false\n",
    "comments: true\n",
    "layout: post\n",
    "title: Team Teach - Full Stack and User Profile\n",
    "description: CRUD backend and frontend, Authentication\n",
    "type: hacks\n",
    "courses: { compsci: {week: 19} }\n",
    "---"
   ]
  },
  {
   "cell_type": "code",
   "execution_count": null,
   "metadata": {
    "vscode": {
     "languageId": "javascript"
    }
   },
   "outputs": [],
   "source": [
    "// Instructions for input from one of the following: the user, a device, an online datas stream, a file.\n",
    "// <img width=\"709\" alt=\"image\" src=\"https://github.com/avanthikadaita/student2/assets/114540969/b856c345-6217-458d-8bd9-54c7b56d1cc0\">\n",
    "\n",
    "// Use of at least one list (or other collection type) to represent a collection of data that is stored and used to manage program complexity and help fulfill the users purpose.\n",
    "// <img width=\"718\" alt=\"Screenshot 2024-02-29 at 8 38 13 PM\" src=\"https://github.com/avanthikadaita/student2/assets/114540969/a23580d6-1606-40df-a73c-ab298305ff0c\">\n",
    "\n",
    "// At least one procedure that contributed to the program’s intended purpose where you have defined: the name, return type, one or more parameters:\n",
    "// <img width=\"718\" alt=\"image\" src=\"https://github.com/avanthikadaita/student2/assets/114540969/5ceda623-2121-4e5a-a7e1-03398e866612\">\n",
    "\n",
    "// An algorithm that includes sequencing, selection, and iteration that is in the body of the selected procedure\n",
    "// <img width=\"718\" alt=\"Screenshot 2024-02-29 at 8 41 52 PM\" src=\"https://github.com/avanthikadaita/student2/assets/114540969/bdc2db97-77d5-414a-bc25-a3c4d7f53374\">\n",
    "\n",
    "// Calls to your student-developed procedure\n",
    "// <img width=\"718\" alt=\"image\" src=\"https://github.com/avanthikadaita/student2/assets/114540969/a4753d9d-ce31-4953-a8c5-5f9435ed2873\">\n",
    "\n",
    "// Calls to your student-developed procedure\n",
    "// <img width=\"718\" alt=\"image\" src=\"https://github.com/avanthikadaita/student2/assets/114540969/5cedc8ef-b987-4e36-94df-6411180e76fd\"></img>"
   ]
  }
 ],
 "metadata": {
  "language_info": {
   "name": "python"
  }
 },
 "nbformat": 4,
 "nbformat_minor": 2
}
